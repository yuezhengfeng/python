{
 "cells": [
  {
   "cell_type": "markdown",
   "metadata": {},
   "source": [
    "# 导入库"
   ]
  },
  {
   "cell_type": "code",
   "execution_count": 29,
   "metadata": {},
   "outputs": [],
   "source": [
    "import pandas as pd\n",
    "import matplotlib.pyplot as plt\n",
    "import numpy as np\n",
    "import qgrid\n",
    "import seaborn as sns"
   ]
  },
  {
   "cell_type": "markdown",
   "metadata": {},
   "source": [
    "# 导入数据"
   ]
  },
  {
   "cell_type": "code",
   "execution_count": 64,
   "metadata": {},
   "outputs": [
    {
     "name": "stderr",
     "output_type": "stream",
     "text": [
      "/opt/anaconda3/lib/python3.8/site-packages/pandas/core/frame.py:5034: SettingWithCopyWarning: \n",
      "A value is trying to be set on a copy of a slice from a DataFrame\n",
      "\n",
      "See the caveats in the documentation: https://pandas.pydata.org/pandas-docs/stable/user_guide/indexing.html#returning-a-view-versus-a-copy\n",
      "  return super().rename(\n"
     ]
    },
    {
     "data": {
      "text/html": [
       "<div>\n",
       "<style scoped>\n",
       "    .dataframe tbody tr th:only-of-type {\n",
       "        vertical-align: middle;\n",
       "    }\n",
       "\n",
       "    .dataframe tbody tr th {\n",
       "        vertical-align: top;\n",
       "    }\n",
       "\n",
       "    .dataframe thead th {\n",
       "        text-align: right;\n",
       "    }\n",
       "</style>\n",
       "<table border=\"1\" class=\"dataframe\">\n",
       "  <thead>\n",
       "    <tr style=\"text-align: right;\">\n",
       "      <th></th>\n",
       "      <th>ben1</th>\n",
       "      <th>tb1</th>\n",
       "      <th>eb1</th>\n",
       "    </tr>\n",
       "  </thead>\n",
       "  <tbody>\n",
       "    <tr>\n",
       "      <th>2</th>\n",
       "      <td>0.246667</td>\n",
       "      <td>0.012083</td>\n",
       "      <td>0.020870</td>\n",
       "    </tr>\n",
       "    <tr>\n",
       "      <th>3</th>\n",
       "      <td>0.255000</td>\n",
       "      <td>0.013478</td>\n",
       "      <td>0.067083</td>\n",
       "    </tr>\n",
       "    <tr>\n",
       "      <th>4</th>\n",
       "      <td>0.303750</td>\n",
       "      <td>0.017619</td>\n",
       "      <td>0.075417</td>\n",
       "    </tr>\n",
       "    <tr>\n",
       "      <th>5</th>\n",
       "      <td>0.398750</td>\n",
       "      <td>0.028750</td>\n",
       "      <td>0.144583</td>\n",
       "    </tr>\n",
       "    <tr>\n",
       "      <th>6</th>\n",
       "      <td>0.444000</td>\n",
       "      <td>0.030000</td>\n",
       "      <td>0.148333</td>\n",
       "    </tr>\n",
       "    <tr>\n",
       "      <th>7</th>\n",
       "      <td>0.446957</td>\n",
       "      <td>0.034348</td>\n",
       "      <td>0.190435</td>\n",
       "    </tr>\n",
       "    <tr>\n",
       "      <th>8</th>\n",
       "      <td>0.447083</td>\n",
       "      <td>0.087917</td>\n",
       "      <td>0.237917</td>\n",
       "    </tr>\n",
       "    <tr>\n",
       "      <th>9</th>\n",
       "      <td>0.475000</td>\n",
       "      <td>0.261667</td>\n",
       "      <td>0.283913</td>\n",
       "    </tr>\n",
       "    <tr>\n",
       "      <th>10</th>\n",
       "      <td>0.490000</td>\n",
       "      <td>0.308333</td>\n",
       "      <td>0.326250</td>\n",
       "    </tr>\n",
       "    <tr>\n",
       "      <th>11</th>\n",
       "      <td>0.497500</td>\n",
       "      <td>0.326667</td>\n",
       "      <td>0.394167</td>\n",
       "    </tr>\n",
       "  </tbody>\n",
       "</table>\n",
       "</div>"
      ],
      "text/plain": [
       "        ben1       tb1       eb1\n",
       "2   0.246667  0.012083  0.020870\n",
       "3   0.255000  0.013478  0.067083\n",
       "4   0.303750  0.017619  0.075417\n",
       "5   0.398750  0.028750  0.144583\n",
       "6   0.444000  0.030000  0.148333\n",
       "7   0.446957  0.034348  0.190435\n",
       "8   0.447083  0.087917  0.237917\n",
       "9   0.475000  0.261667  0.283913\n",
       "10  0.490000  0.308333  0.326250\n",
       "11  0.497500  0.326667  0.394167"
      ]
     },
     "execution_count": 64,
     "metadata": {},
     "output_type": "execute_result"
    }
   ],
   "source": [
    "# Import Data\n",
    "df_raw = pd.read_excel(\"../../plot/weekly3.xlsx\")\n",
    "df_raw1=df_raw[['苯1','甲苯1','乙苯1']]\n",
    "df_raw1.rename(columns = {\"苯1\": \"ben1\", \"甲苯1\":\"tb1\",'乙苯1':'eb1'},  inplace=True)\n",
    "df_raw1=df_raw1[2:][:10]\n",
    "df_raw1"
   ]
  },
  {
   "cell_type": "code",
   "execution_count": 80,
   "metadata": {},
   "outputs": [
    {
     "data": {
      "text/html": [
       "<div>\n",
       "<style scoped>\n",
       "    .dataframe tbody tr th:only-of-type {\n",
       "        vertical-align: middle;\n",
       "    }\n",
       "\n",
       "    .dataframe tbody tr th {\n",
       "        vertical-align: top;\n",
       "    }\n",
       "\n",
       "    .dataframe thead th {\n",
       "        text-align: right;\n",
       "    }\n",
       "</style>\n",
       "<table border=\"1\" class=\"dataframe\">\n",
       "  <thead>\n",
       "    <tr style=\"text-align: right;\">\n",
       "      <th></th>\n",
       "      <th>ben1</th>\n",
       "      <th>eb1</th>\n",
       "    </tr>\n",
       "    <tr>\n",
       "      <th>eb1</th>\n",
       "      <th></th>\n",
       "      <th></th>\n",
       "    </tr>\n",
       "  </thead>\n",
       "  <tbody>\n",
       "    <tr>\n",
       "      <th>0.020870</th>\n",
       "      <td>0.246667</td>\n",
       "      <td>0.020870</td>\n",
       "    </tr>\n",
       "    <tr>\n",
       "      <th>0.067083</th>\n",
       "      <td>0.255000</td>\n",
       "      <td>0.067083</td>\n",
       "    </tr>\n",
       "    <tr>\n",
       "      <th>0.075417</th>\n",
       "      <td>0.303750</td>\n",
       "      <td>0.075417</td>\n",
       "    </tr>\n",
       "    <tr>\n",
       "      <th>0.144583</th>\n",
       "      <td>0.398750</td>\n",
       "      <td>0.144583</td>\n",
       "    </tr>\n",
       "    <tr>\n",
       "      <th>0.148333</th>\n",
       "      <td>0.444000</td>\n",
       "      <td>0.148333</td>\n",
       "    </tr>\n",
       "    <tr>\n",
       "      <th>0.190435</th>\n",
       "      <td>0.446957</td>\n",
       "      <td>0.190435</td>\n",
       "    </tr>\n",
       "    <tr>\n",
       "      <th>0.237917</th>\n",
       "      <td>0.447083</td>\n",
       "      <td>0.237917</td>\n",
       "    </tr>\n",
       "    <tr>\n",
       "      <th>0.283913</th>\n",
       "      <td>0.475000</td>\n",
       "      <td>0.283913</td>\n",
       "    </tr>\n",
       "    <tr>\n",
       "      <th>0.326250</th>\n",
       "      <td>0.490000</td>\n",
       "      <td>0.326250</td>\n",
       "    </tr>\n",
       "    <tr>\n",
       "      <th>0.394167</th>\n",
       "      <td>0.497500</td>\n",
       "      <td>0.394167</td>\n",
       "    </tr>\n",
       "  </tbody>\n",
       "</table>\n",
       "</div>"
      ],
      "text/plain": [
       "              ben1       eb1\n",
       "eb1                         \n",
       "0.020870  0.246667  0.020870\n",
       "0.067083  0.255000  0.067083\n",
       "0.075417  0.303750  0.075417\n",
       "0.144583  0.398750  0.144583\n",
       "0.148333  0.444000  0.148333\n",
       "0.190435  0.446957  0.190435\n",
       "0.237917  0.447083  0.237917\n",
       "0.283913  0.475000  0.283913\n",
       "0.326250  0.490000  0.326250\n",
       "0.394167  0.497500  0.394167"
      ]
     },
     "execution_count": 80,
     "metadata": {},
     "output_type": "execute_result"
    }
   ],
   "source": [
    "df = df_raw1[['ben1',\n",
    "             'eb1']].groupby('eb1').apply(lambda x: x.mean())\n",
    "df.sort_values('ben1', inplace=True)\n",
    "df\n",
    "# df.reset_index(inplace=True)   用来重置dataframe"
   ]
  },
  {
   "cell_type": "code",
   "execution_count": 23,
   "metadata": {},
   "outputs": [
    {
     "name": "stderr",
     "output_type": "stream",
     "text": [
      "/opt/anaconda3/lib/python3.8/site-packages/matplotlib/backends/backend_agg.py:214: RuntimeWarning: Glyph 32463 missing from current font.\n",
      "  font.set_text(s, 0.0, flags=flags)\n",
      "/opt/anaconda3/lib/python3.8/site-packages/matplotlib/backends/backend_agg.py:214: RuntimeWarning: Glyph 24230 missing from current font.\n",
      "  font.set_text(s, 0.0, flags=flags)\n",
      "/opt/anaconda3/lib/python3.8/site-packages/matplotlib/backends/backend_agg.py:214: RuntimeWarning: Glyph 32428 missing from current font.\n",
      "  font.set_text(s, 0.0, flags=flags)\n",
      "/opt/anaconda3/lib/python3.8/site-packages/matplotlib/backends/backend_agg.py:183: RuntimeWarning: Glyph 32463 missing from current font.\n",
      "  font.set_text(s, 0, flags=flags)\n",
      "/opt/anaconda3/lib/python3.8/site-packages/matplotlib/backends/backend_agg.py:183: RuntimeWarning: Glyph 24230 missing from current font.\n",
      "  font.set_text(s, 0, flags=flags)\n",
      "/opt/anaconda3/lib/python3.8/site-packages/matplotlib/backends/backend_agg.py:183: RuntimeWarning: Glyph 32428 missing from current font.\n",
      "  font.set_text(s, 0, flags=flags)\n"
     ]
    },
    {
     "data": {
      "image/png": "[encoded data removed]",
      "text/plain": [
       "<Figure size 720x576 with 3 Axes>"
      ]
     },
     "metadata": {},
     "output_type": "display_data"
    }
   ],
   "source": [
    "sns.set(style=\"whitegrid\", font_scale=1.5)  #设置主题，文本大小\n",
    "g = sns.jointplot(\n",
    "    x='经度',\n",
    "    y='纬度',\n",
    "    data=df,  #输入两个绘图变量\n",
    "    color='#098154',  #修改颜色\n",
    ")\n",
    "g.fig.set_size_inches(10, 8)"
   ]
  },
  {
   "cell_type": "code",
   "execution_count": 89,
   "metadata": {},
   "outputs": [
    {
     "data": {
      "image/png": "[encoded data removed]",
      "text/plain": [
       "<Figure size 1000x600 with 3 Axes>"
      ]
     },
     "metadata": {},
     "output_type": "display_data"
    }
   ],
   "source": [
    "fig = plt.figure(figsize=(10, 6), dpi=100)\n",
    "grid = plt.GridSpec(4, 4, hspace=0.5, wspace=0.2)\n",
    "\n",
    "# Define the axes\n",
    "ax_main = fig.add_subplot(grid[:-1, :-1])\n",
    "ax_right = fig.add_subplot(grid[:-1, -1], xticklabels=[], yticklabels=[])\n",
    "ax_bottom = fig.add_subplot(grid[-1, 0:-1], xticklabels=[], yticklabels=[])\n",
    "\n",
    "# Scatterplot on main ax\n",
    "ax_main.scatter('ben1',\n",
    "                'eb1',\n",
    "                s=df.ben1 * 70,\n",
    "                c=df.eb1.astype('category').cat.codes,\n",
    "                alpha=.9,\n",
    "                data=df,\n",
    "                cmap=\"Set1\",\n",
    "                edgecolors='gray',\n",
    "                linewidths=.5)\n",
    "\n",
    "ax_bottom.hist(df.eb1,\n",
    "               40,\n",
    "               histtype='stepfilled',\n",
    "               orientation='vertical',\n",
    "               color='#098154')\n",
    "ax_bottom.invert_yaxis()\n",
    "\n",
    "# histogram in the bottom\n",
    "ax_right.hist(df.ben1,\n",
    "              40,\n",
    "              histtype='stepfilled',\n",
    "              orientation='horizontal',\n",
    "              color='#098154')\n",
    "##设置坐标轴\n",
    "ax_main.set(title='Scatterplot with Histograms \\n displ vs hwy',\n",
    "            xlabel='displ',\n",
    "            ylabel='hwy')\n",
    "ax_main.title.set_fontsize(10)\n",
    "for item in ([ax_main.xaxis.label, ax_main.yaxis.label] +\n",
    "             ax_main.get_xticklabels() + ax_main.get_yticklabels()):\n",
    "    item.set_fontsize(10)\n",
    "\n",
    "# xlabels = ax_main.get_xticks().tolist()\n",
    "# ax_main.set_xticklabels(xlabels)\n",
    "plt.show()"
   ]
  },
  {
   "cell_type": "code",
   "execution_count": null,
   "metadata": {},
   "outputs": [],
   "source": []
  }
 ],
 "metadata": {
  "kernelspec": {
   "display_name": "Python 3",
   "language": "python",
   "name": "python3"
  },
  "language_info": {
   "codemirror_mode": {
    "name": "ipython",
    "version": 3
   },
   "file_extension": ".py",
   "mimetype": "text/x-python",
   "name": "python",
   "nbconvert_exporter": "python",
   "pygments_lexer": "ipython3",
   "version": "3.8.3"
  },
  "toc": {
   "base_numbering": 1,
   "nav_menu": {},
   "number_sections": true,
   "sideBar": true,
   "skip_h1_title": false,
   "title_cell": "Table of Contents",
   "title_sidebar": "Contents",
   "toc_cell": false,
   "toc_position": {},
   "toc_section_display": true,
   "toc_window_display": false
  }
 },
 "nbformat": 4,
 "nbformat_minor": 4
}
